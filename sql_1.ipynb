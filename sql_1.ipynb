{
 "cells": [
  {
   "cell_type": "code",
   "execution_count": 2,
   "metadata": {
    "ExecuteTime": {
     "end_time": "2021-06-06T20:16:28.256883Z",
     "start_time": "2021-06-06T20:16:28.253324Z"
    }
   },
   "outputs": [],
   "source": [
    "import sqlite3"
   ]
  },
  {
   "cell_type": "code",
   "execution_count": 3,
   "metadata": {
    "ExecuteTime": {
     "end_time": "2021-06-06T20:16:29.105531Z",
     "start_time": "2021-06-06T20:16:29.102093Z"
    }
   },
   "outputs": [],
   "source": [
    "## Create new SQL database\n",
    "conn = sqlite3.connect('departments')\n",
    "cur = conn.cursor()\n",
    "\n",
    "conn.commit()"
   ]
  },
  {
   "cell_type": "code",
   "execution_count": 6,
   "metadata": {
    "ExecuteTime": {
     "end_time": "2021-06-06T23:02:16.735529Z",
     "start_time": "2021-06-06T23:02:16.730895Z"
    }
   },
   "outputs": [],
   "source": [
    "# Create SQL table called \"departments\" \n",
    "cur.execute(\"\"\"CREATE TABLE departments (\n",
    "                                department_id TEXT PRIMARY KEY NOT NULL,\n",
    "                                department_name TEXT,\n",
    "                                location_id TEXT)\n",
    "            \"\"\")\n",
    "conn.commit()"
   ]
  },
  {
   "cell_type": "code",
   "execution_count": 7,
   "metadata": {
    "ExecuteTime": {
     "end_time": "2021-06-06T23:44:51.057498Z",
     "start_time": "2021-06-06T23:44:51.048249Z"
    }
   },
   "outputs": [],
   "source": [
    "# Create SQL table called \"employees\" \n",
    "cur.execute(\"\"\"CREATE TABLE employees (\n",
    "                                employee_id TEXT PRIMARY KEY NOT NULL,\n",
    "                                first_name TEXT,\n",
    "                                last_name TEXT,\n",
    "                                email TEXT,\n",
    "                                phone_number TEXT,\n",
    "                                hire_date NUMERIC,\n",
    "                                job_id TEXT,\n",
    "                                salary NUMERIC,\n",
    "                                manager_id TEXT,\n",
    "                                department_id TEXT)\n",
    "            \"\"\")\n",
    "conn.commit()"
   ]
  },
  {
   "cell_type": "code",
   "execution_count": null,
   "metadata": {},
   "outputs": [],
   "source": []
  }
 ],
 "metadata": {
  "kernelspec": {
   "display_name": "Python 3",
   "language": "python",
   "name": "python3"
  },
  "language_info": {
   "codemirror_mode": {
    "name": "ipython",
    "version": 3
   },
   "file_extension": ".py",
   "mimetype": "text/x-python",
   "name": "python",
   "nbconvert_exporter": "python",
   "pygments_lexer": "ipython3",
   "version": "3.8.5"
  },
  "toc": {
   "base_numbering": 1,
   "nav_menu": {},
   "number_sections": true,
   "sideBar": true,
   "skip_h1_title": false,
   "title_cell": "Table of Contents",
   "title_sidebar": "Contents",
   "toc_cell": false,
   "toc_position": {},
   "toc_section_display": true,
   "toc_window_display": false
  },
  "varInspector": {
   "cols": {
    "lenName": 16,
    "lenType": 16,
    "lenVar": 40
   },
   "kernels_config": {
    "python": {
     "delete_cmd_postfix": "",
     "delete_cmd_prefix": "del ",
     "library": "var_list.py",
     "varRefreshCmd": "print(var_dic_list())"
    },
    "r": {
     "delete_cmd_postfix": ") ",
     "delete_cmd_prefix": "rm(",
     "library": "var_list.r",
     "varRefreshCmd": "cat(var_dic_list()) "
    }
   },
   "types_to_exclude": [
    "module",
    "function",
    "builtin_function_or_method",
    "instance",
    "_Feature"
   ],
   "window_display": false
  }
 },
 "nbformat": 4,
 "nbformat_minor": 4
}
