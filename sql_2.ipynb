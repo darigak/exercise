{
 "cells": [
  {
   "cell_type": "code",
   "execution_count": 1,
   "metadata": {
    "ExecuteTime": {
     "end_time": "2021-06-09T14:12:42.598555Z",
     "start_time": "2021-06-09T14:12:42.039929Z"
    }
   },
   "outputs": [],
   "source": [
    "import sqlite3\n",
    "import pandas as pd\n",
    "import numpy as np"
   ]
  },
  {
   "cell_type": "markdown",
   "metadata": {},
   "source": [
    "Data was taken from https://www.w3resource.com/sql-exercises/soccer-database-exercise/soccer_team_view_data.php and https://www.w3resource.com/sql-exercises/soccer-database-exercise/index.php"
   ]
  },
  {
   "cell_type": "markdown",
   "metadata": {},
   "source": [
    "# Load data into pandas"
   ]
  },
  {
   "cell_type": "code",
   "execution_count": 5,
   "metadata": {
    "ExecuteTime": {
     "end_time": "2021-06-09T21:39:11.391260Z",
     "start_time": "2021-06-09T21:39:11.385251Z"
    }
   },
   "outputs": [],
   "source": [
    "soccer_team = pd.read_csv('/Users/dariga_kokenova/Documents_comp/Flatiron/blogs/blog_june_01/soccer_team.csv', \n",
    "                          header = 0)"
   ]
  },
  {
   "cell_type": "code",
   "execution_count": 7,
   "metadata": {
    "ExecuteTime": {
     "end_time": "2021-06-09T21:40:38.704709Z",
     "start_time": "2021-06-09T21:40:38.694331Z"
    },
    "scrolled": true
   },
   "outputs": [
    {
     "data": {
      "text/html": [
       "<div>\n",
       "<style scoped>\n",
       "    .dataframe tbody tr th:only-of-type {\n",
       "        vertical-align: middle;\n",
       "    }\n",
       "\n",
       "    .dataframe tbody tr th {\n",
       "        vertical-align: top;\n",
       "    }\n",
       "\n",
       "    .dataframe thead th {\n",
       "        text-align: right;\n",
       "    }\n",
       "</style>\n",
       "<table border=\"1\" class=\"dataframe\">\n",
       "  <thead>\n",
       "    <tr style=\"text-align: right;\">\n",
       "      <th></th>\n",
       "      <th>team_id</th>\n",
       "      <th>team_group</th>\n",
       "      <th>match_played</th>\n",
       "      <th>won</th>\n",
       "      <th>draw</th>\n",
       "      <th>lost</th>\n",
       "      <th>goal_for</th>\n",
       "      <th>goal_agnst</th>\n",
       "      <th>goal_diff</th>\n",
       "      <th>points</th>\n",
       "      <th>group_position</th>\n",
       "    </tr>\n",
       "  </thead>\n",
       "  <tbody>\n",
       "    <tr>\n",
       "      <th>0</th>\n",
       "      <td>1201</td>\n",
       "      <td>A</td>\n",
       "      <td>3</td>\n",
       "      <td>1</td>\n",
       "      <td>0</td>\n",
       "      <td>2</td>\n",
       "      <td>1</td>\n",
       "      <td>3</td>\n",
       "      <td>-2</td>\n",
       "      <td>3</td>\n",
       "      <td>3</td>\n",
       "    </tr>\n",
       "    <tr>\n",
       "      <th>1</th>\n",
       "      <td>1202</td>\n",
       "      <td>F</td>\n",
       "      <td>3</td>\n",
       "      <td>0</td>\n",
       "      <td>1</td>\n",
       "      <td>2</td>\n",
       "      <td>1</td>\n",
       "      <td>4</td>\n",
       "      <td>-3</td>\n",
       "      <td>1</td>\n",
       "      <td>4</td>\n",
       "    </tr>\n",
       "    <tr>\n",
       "      <th>2</th>\n",
       "      <td>1203</td>\n",
       "      <td>E</td>\n",
       "      <td>3</td>\n",
       "      <td>2</td>\n",
       "      <td>0</td>\n",
       "      <td>1</td>\n",
       "      <td>4</td>\n",
       "      <td>2</td>\n",
       "      <td>2</td>\n",
       "      <td>6</td>\n",
       "      <td>2</td>\n",
       "    </tr>\n",
       "    <tr>\n",
       "      <th>3</th>\n",
       "      <td>1204</td>\n",
       "      <td>D</td>\n",
       "      <td>3</td>\n",
       "      <td>2</td>\n",
       "      <td>1</td>\n",
       "      <td>0</td>\n",
       "      <td>5</td>\n",
       "      <td>3</td>\n",
       "      <td>2</td>\n",
       "      <td>7</td>\n",
       "      <td>1</td>\n",
       "    </tr>\n",
       "    <tr>\n",
       "      <th>4</th>\n",
       "      <td>1205</td>\n",
       "      <td>D</td>\n",
       "      <td>3</td>\n",
       "      <td>0</td>\n",
       "      <td>1</td>\n",
       "      <td>2</td>\n",
       "      <td>2</td>\n",
       "      <td>5</td>\n",
       "      <td>-3</td>\n",
       "      <td>1</td>\n",
       "      <td>4</td>\n",
       "    </tr>\n",
       "  </tbody>\n",
       "</table>\n",
       "</div>"
      ],
      "text/plain": [
       "   team_id team_group  match_played  won  draw  lost  goal_for  goal_agnst  \\\n",
       "0     1201          A             3    1     0     2         1           3   \n",
       "1     1202          F             3    0     1     2         1           4   \n",
       "2     1203          E             3    2     0     1         4           2   \n",
       "3     1204          D             3    2     1     0         5           3   \n",
       "4     1205          D             3    0     1     2         2           5   \n",
       "\n",
       "   goal_diff  points  group_position  \n",
       "0         -2       3               3  \n",
       "1         -3       1               4  \n",
       "2          2       6               2  \n",
       "3          2       7               1  \n",
       "4         -3       1               4  "
      ]
     },
     "execution_count": 7,
     "metadata": {},
     "output_type": "execute_result"
    }
   ],
   "source": [
    "soccer_team.head()"
   ]
  },
  {
   "cell_type": "code",
   "execution_count": 24,
   "metadata": {
    "ExecuteTime": {
     "end_time": "2021-06-09T22:21:37.202157Z",
     "start_time": "2021-06-09T22:21:37.197140Z"
    },
    "scrolled": true
   },
   "outputs": [
    {
     "data": {
      "text/plain": [
       "Index(['team_id', 'team_group', 'match_played', 'won', 'draw', 'lost',\n",
       "       'goal_for', 'goal_agnst', 'goal_diff', 'points', 'group_position'],\n",
       "      dtype='object')"
      ]
     },
     "execution_count": 24,
     "metadata": {},
     "output_type": "execute_result"
    }
   ],
   "source": [
    "soccer_team.columns"
   ]
  },
  {
   "cell_type": "code",
   "execution_count": 22,
   "metadata": {
    "ExecuteTime": {
     "end_time": "2021-06-09T22:18:30.355594Z",
     "start_time": "2021-06-09T22:18:30.350451Z"
    }
   },
   "outputs": [],
   "source": [
    "soccer_country = pd.read_csv('/Users/dariga_kokenova/Documents_comp/Flatiron/blogs/blog_june_01/soccer_country.csv', \n",
    "                          header = 0, usecols = ['country_id','country_abbr','country_name'])"
   ]
  },
  {
   "cell_type": "code",
   "execution_count": 23,
   "metadata": {
    "ExecuteTime": {
     "end_time": "2021-06-09T22:18:31.400213Z",
     "start_time": "2021-06-09T22:18:31.393736Z"
    }
   },
   "outputs": [
    {
     "data": {
      "text/html": [
       "<div>\n",
       "<style scoped>\n",
       "    .dataframe tbody tr th:only-of-type {\n",
       "        vertical-align: middle;\n",
       "    }\n",
       "\n",
       "    .dataframe tbody tr th {\n",
       "        vertical-align: top;\n",
       "    }\n",
       "\n",
       "    .dataframe thead th {\n",
       "        text-align: right;\n",
       "    }\n",
       "</style>\n",
       "<table border=\"1\" class=\"dataframe\">\n",
       "  <thead>\n",
       "    <tr style=\"text-align: right;\">\n",
       "      <th></th>\n",
       "      <th>country_id</th>\n",
       "      <th>country_abbr</th>\n",
       "      <th>country_name</th>\n",
       "    </tr>\n",
       "  </thead>\n",
       "  <tbody>\n",
       "    <tr>\n",
       "      <th>0</th>\n",
       "      <td>1201</td>\n",
       "      <td>ALB</td>\n",
       "      <td>Albania</td>\n",
       "    </tr>\n",
       "    <tr>\n",
       "      <th>1</th>\n",
       "      <td>1202</td>\n",
       "      <td>AUT</td>\n",
       "      <td>Austria</td>\n",
       "    </tr>\n",
       "    <tr>\n",
       "      <th>2</th>\n",
       "      <td>1203</td>\n",
       "      <td>BEL</td>\n",
       "      <td>Belgium</td>\n",
       "    </tr>\n",
       "    <tr>\n",
       "      <th>3</th>\n",
       "      <td>1204</td>\n",
       "      <td>CRO</td>\n",
       "      <td>Croatia</td>\n",
       "    </tr>\n",
       "    <tr>\n",
       "      <th>4</th>\n",
       "      <td>1205</td>\n",
       "      <td>CZE</td>\n",
       "      <td>Czech Republic</td>\n",
       "    </tr>\n",
       "  </tbody>\n",
       "</table>\n",
       "</div>"
      ],
      "text/plain": [
       "   country_id country_abbr    country_name\n",
       "0        1201          ALB         Albania\n",
       "1        1202          AUT         Austria\n",
       "2        1203          BEL         Belgium\n",
       "3        1204          CRO         Croatia\n",
       "4        1205          CZE  Czech Republic"
      ]
     },
     "execution_count": 23,
     "metadata": {},
     "output_type": "execute_result"
    }
   ],
   "source": [
    "soccer_country.head()"
   ]
  },
  {
   "cell_type": "code",
   "execution_count": 25,
   "metadata": {
    "ExecuteTime": {
     "end_time": "2021-06-09T22:21:49.637327Z",
     "start_time": "2021-06-09T22:21:49.633172Z"
    }
   },
   "outputs": [
    {
     "data": {
      "text/plain": [
       "Index(['country_id', 'country_abbr', 'country_name'], dtype='object')"
      ]
     },
     "execution_count": 25,
     "metadata": {},
     "output_type": "execute_result"
    }
   ],
   "source": [
    "soccer_country.columns"
   ]
  },
  {
   "cell_type": "markdown",
   "metadata": {},
   "source": [
    "# Create SQL database"
   ]
  },
  {
   "cell_type": "code",
   "execution_count": 2,
   "metadata": {
    "ExecuteTime": {
     "end_time": "2021-06-09T21:30:15.399485Z",
     "start_time": "2021-06-09T21:30:15.388053Z"
    }
   },
   "outputs": [],
   "source": [
    "## Create new SQL database\n",
    "conn = sqlite3.connect('soccer')\n",
    "cur = conn.cursor()\n",
    "\n",
    "conn.commit()"
   ]
  },
  {
   "cell_type": "code",
   "execution_count": 26,
   "metadata": {
    "ExecuteTime": {
     "end_time": "2021-06-09T22:35:58.675928Z",
     "start_time": "2021-06-09T22:35:58.665295Z"
    }
   },
   "outputs": [],
   "source": [
    "# Create SQL table called \"soccer_team\" \n",
    "cur.execute(\"\"\"CREATE TABLE soccer_team (\n",
    "                                team_id TEXT PRIMARY KEY NOT NULL,\n",
    "                                team_group NOT NULL,\n",
    "                                match_played NOT NULL,\n",
    "                                won NOT NULL,\n",
    "                                draw NOT NULL,\n",
    "                                lost NOT NULL,\n",
    "                                goal_for NOT NULL,\n",
    "                                goal_agnst NOT NULL,\n",
    "                                goal_diff NOT NULL,\n",
    "                                points NOT NULL,\n",
    "                                group_position NOT NULL)\n",
    "            \"\"\")\n",
    "conn.commit()"
   ]
  },
  {
   "cell_type": "code",
   "execution_count": 27,
   "metadata": {
    "ExecuteTime": {
     "end_time": "2021-06-09T22:37:28.577418Z",
     "start_time": "2021-06-09T22:37:28.573730Z"
    }
   },
   "outputs": [],
   "source": [
    "# Create SQL table called \"soccer_country\" \n",
    "cur.execute(\"\"\"CREATE TABLE soccer_country (\n",
    "                                country_id  TEXT PRIMARY KEY NOT NULL,\n",
    "                                country_abbr TEXT,\n",
    "                                country_name TEXT)\n",
    "            \"\"\")\n",
    "conn.commit()"
   ]
  },
  {
   "cell_type": "markdown",
   "metadata": {
    "ExecuteTime": {
     "end_time": "2021-06-09T23:16:30.752808Z",
     "start_time": "2021-06-09T23:16:30.743331Z"
    }
   },
   "source": [
    "# Pull data into SQL"
   ]
  },
  {
   "cell_type": "code",
   "execution_count": 34,
   "metadata": {
    "ExecuteTime": {
     "end_time": "2021-06-10T23:46:27.869804Z",
     "start_time": "2021-06-10T23:46:27.861797Z"
    }
   },
   "outputs": [],
   "source": [
    "for index, row in soccer_team.iterrows():\n",
    "    cur.execute(\"\"\"INSERT INTO soccer_team (team_id, team_group, match_played, won, draw, lost,\n",
    "                    goal_for, goal_agnst, goal_diff, points, group_position) \n",
    "                    values(?,?,?,?,?,?,?,?,?,?,?)\"\"\", \n",
    "                    row)\n",
    "conn.commit()"
   ]
  },
  {
   "cell_type": "code",
   "execution_count": 35,
   "metadata": {
    "ExecuteTime": {
     "end_time": "2021-06-10T23:47:56.730099Z",
     "start_time": "2021-06-10T23:47:56.719776Z"
    }
   },
   "outputs": [],
   "source": [
    "for index, row in soccer_country.iterrows():\n",
    "    cur.execute(\"\"\"INSERT INTO soccer_country (country_id, country_abbr, country_name) \n",
    "                    values(?,?,?)\"\"\", \n",
    "                    row)\n",
    "conn.commit()"
   ]
  },
  {
   "cell_type": "code",
   "execution_count": null,
   "metadata": {},
   "outputs": [],
   "source": []
  }
 ],
 "metadata": {
  "kernelspec": {
   "display_name": "Python 3",
   "language": "python",
   "name": "python3"
  },
  "language_info": {
   "codemirror_mode": {
    "name": "ipython",
    "version": 3
   },
   "file_extension": ".py",
   "mimetype": "text/x-python",
   "name": "python",
   "nbconvert_exporter": "python",
   "pygments_lexer": "ipython3",
   "version": "3.8.5"
  },
  "toc": {
   "base_numbering": 1,
   "nav_menu": {},
   "number_sections": true,
   "sideBar": true,
   "skip_h1_title": false,
   "title_cell": "Table of Contents",
   "title_sidebar": "Contents",
   "toc_cell": false,
   "toc_position": {},
   "toc_section_display": true,
   "toc_window_display": true
  },
  "varInspector": {
   "cols": {
    "lenName": 16,
    "lenType": 16,
    "lenVar": 40
   },
   "kernels_config": {
    "python": {
     "delete_cmd_postfix": "",
     "delete_cmd_prefix": "del ",
     "library": "var_list.py",
     "varRefreshCmd": "print(var_dic_list())"
    },
    "r": {
     "delete_cmd_postfix": ") ",
     "delete_cmd_prefix": "rm(",
     "library": "var_list.r",
     "varRefreshCmd": "cat(var_dic_list()) "
    }
   },
   "types_to_exclude": [
    "module",
    "function",
    "builtin_function_or_method",
    "instance",
    "_Feature"
   ],
   "window_display": false
  }
 },
 "nbformat": 4,
 "nbformat_minor": 4
}
