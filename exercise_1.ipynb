{
 "cells": [
  {
   "cell_type": "code",
   "execution_count": 2,
   "metadata": {
    "ExecuteTime": {
     "end_time": "2021-06-06T02:31:35.290854Z",
     "start_time": "2021-06-06T02:31:35.288368Z"
    }
   },
   "outputs": [],
   "source": [
    "# 804. Unique Morse Code Words"
   ]
  },
  {
   "cell_type": "markdown",
   "metadata": {},
   "source": [
    "https://leetcode.com/problems/unique-morse-code-words/"
   ]
  },
  {
   "cell_type": "markdown",
   "metadata": {},
   "source": [
    "International Morse Code defines a standard encoding where each letter is mapped to a series of dots and dashes, as follows: \"a\" maps to \".-\", \"b\" maps to \"-...\", \"c\" maps to \"-.-.\", and so on.\n",
    "\n",
    "For convenience, the full table for the 26 letters of the English alphabet is given below:\n",
    "\n",
    "[\".-\",\"-...\",\"-.-.\",\"-..\",\".\",\"..-.\",\"--.\",\"....\",\"..\",\".---\",\"-.-\",\".-..\",\"--\",\"-.\",\"---\",\".--.\",\"--.-\",\".-.\",\"...\",\"-\",\"..-\",\"...-\",\".--\",\"-..-\",\"-.--\",\"--..\"]\n",
    "Now, given a list of words, each word can be written as a concatenation of the Morse code of each letter. For example, \"cab\" can be written as \"-.-..--...\", (which is the concatenation \"-.-.\" + \".-\" + \"-...\"). We'll call such a concatenation, the transformation of a word.\n",
    "\n",
    "Return the number of different transformations among all words we have.\n",
    "\n",
    "Example:\n",
    "Input: words = [\"gin\", \"zen\", \"gig\", \"msg\"]\n",
    "Output: 2\n",
    "Explanation: \n",
    "The transformation of each word is:\n",
    "\"gin\" -> \"--...-.\"\n",
    "\"zen\" -> \"--...-.\"\n",
    "\"gig\" -> \"--...--.\"\n",
    "\"msg\" -> \"--...--.\"\n",
    "\n",
    "There are 2 different transformations, \"--...-.\" and \"--...--.\"."
   ]
  },
  {
   "cell_type": "markdown",
   "metadata": {},
   "source": [
    "The length of words will be at most 100.\n",
    "Each words[i] will have length in range [1, 12].\n",
    "words[i] will only consist of lowercase letters."
   ]
  },
  {
   "cell_type": "code",
   "execution_count": 3,
   "metadata": {
    "ExecuteTime": {
     "end_time": "2021-06-06T02:35:23.321464Z",
     "start_time": "2021-06-06T02:35:23.318386Z"
    }
   },
   "outputs": [],
   "source": [
    "words = [\"gin\", \"zen\", \"gig\", \"msg\"]"
   ]
  },
  {
   "cell_type": "code",
   "execution_count": 4,
   "metadata": {
    "ExecuteTime": {
     "end_time": "2021-06-06T03:33:57.704909Z",
     "start_time": "2021-06-06T03:33:57.701119Z"
    }
   },
   "outputs": [],
   "source": [
    "morse_alphabet = [\".-\",\"-...\",\"-.-.\",\"-..\",\".\",\"..-.\",\"--.\",\"....\",\"..\",\".---\",\"-.-\",\".-..\",\"--\",\"-.\",\"---\",\".--.\",\"--.-\",\".-.\",\"...\",\"-\",\"..-\",\"...-\",\".--\",\"-..-\",\"-.--\",\"--..\"]"
   ]
  },
  {
   "cell_type": "code",
   "execution_count": 12,
   "metadata": {
    "ExecuteTime": {
     "end_time": "2021-06-06T03:40:09.086294Z",
     "start_time": "2021-06-06T03:40:09.082650Z"
    }
   },
   "outputs": [
    {
     "data": {
      "text/plain": [
       "26"
      ]
     },
     "execution_count": 12,
     "metadata": {},
     "output_type": "execute_result"
    }
   ],
   "source": [
    "len(morse_alphabet)"
   ]
  },
  {
   "cell_type": "code",
   "execution_count": 8,
   "metadata": {
    "ExecuteTime": {
     "end_time": "2021-06-06T03:38:52.081802Z",
     "start_time": "2021-06-06T03:38:52.078268Z"
    }
   },
   "outputs": [],
   "source": [
    "alphabet = ['a','b','c','d','e','f','g','h','i','j','k','l','m','n','o','p','q','r','s','t','u','v','w','x','y','z']"
   ]
  },
  {
   "cell_type": "code",
   "execution_count": 10,
   "metadata": {
    "ExecuteTime": {
     "end_time": "2021-06-06T03:39:27.162468Z",
     "start_time": "2021-06-06T03:39:27.158432Z"
    }
   },
   "outputs": [
    {
     "data": {
      "text/plain": [
       "26"
      ]
     },
     "execution_count": 10,
     "metadata": {},
     "output_type": "execute_result"
    }
   ],
   "source": [
    "len(alphabet)"
   ]
  },
  {
   "cell_type": "code",
   "execution_count": 15,
   "metadata": {
    "ExecuteTime": {
     "end_time": "2021-06-06T04:00:28.422615Z",
     "start_time": "2021-06-06T04:00:28.419354Z"
    }
   },
   "outputs": [],
   "source": [
    "# create dictionary from alphabet and morse_alphabet\n",
    "morse_dict = {}\n",
    "for a,m in zip(alphabet, morse_alphabet):\n",
    "    morse_dict[a] = m"
   ]
  },
  {
   "cell_type": "code",
   "execution_count": 16,
   "metadata": {
    "ExecuteTime": {
     "end_time": "2021-06-06T04:00:42.855391Z",
     "start_time": "2021-06-06T04:00:42.851180Z"
    }
   },
   "outputs": [
    {
     "data": {
      "text/plain": [
       "{'a': '.-',\n",
       " 'b': '-...',\n",
       " 'c': '-.-.',\n",
       " 'd': '-..',\n",
       " 'e': '.',\n",
       " 'f': '..-.',\n",
       " 'g': '--.',\n",
       " 'h': '....',\n",
       " 'i': '..',\n",
       " 'j': '.---',\n",
       " 'k': '-.-',\n",
       " 'l': '.-..',\n",
       " 'm': '--',\n",
       " 'n': '-.',\n",
       " 'o': '---',\n",
       " 'p': '.--.',\n",
       " 'q': '--.-',\n",
       " 'r': '.-.',\n",
       " 's': '...',\n",
       " 't': '-',\n",
       " 'u': '..-',\n",
       " 'v': '...-',\n",
       " 'w': '.--',\n",
       " 'x': '-..-',\n",
       " 'y': '-.--',\n",
       " 'z': '--..'}"
      ]
     },
     "execution_count": 16,
     "metadata": {},
     "output_type": "execute_result"
    }
   ],
   "source": [
    "morse_dict"
   ]
  },
  {
   "cell_type": "code",
   "execution_count": 50,
   "metadata": {
    "ExecuteTime": {
     "end_time": "2021-06-06T04:39:19.565706Z",
     "start_time": "2021-06-06T04:39:19.562770Z"
    }
   },
   "outputs": [],
   "source": [
    "# create dictionary from alphabet and morse_alphabet\n",
    "morse_dict = {a:m for a,m in zip(alphabet, morse_alphabet)}"
   ]
  },
  {
   "cell_type": "code",
   "execution_count": 51,
   "metadata": {
    "ExecuteTime": {
     "end_time": "2021-06-06T04:39:27.175730Z",
     "start_time": "2021-06-06T04:39:27.171550Z"
    }
   },
   "outputs": [
    {
     "data": {
      "text/plain": [
       "{'a': '.-',\n",
       " 'b': '-...',\n",
       " 'c': '-.-.',\n",
       " 'd': '-..',\n",
       " 'e': '.',\n",
       " 'f': '..-.',\n",
       " 'g': '--.',\n",
       " 'h': '....',\n",
       " 'i': '..',\n",
       " 'j': '.---',\n",
       " 'k': '-.-',\n",
       " 'l': '.-..',\n",
       " 'm': '--',\n",
       " 'n': '-.',\n",
       " 'o': '---',\n",
       " 'p': '.--.',\n",
       " 'q': '--.-',\n",
       " 'r': '.-.',\n",
       " 's': '...',\n",
       " 't': '-',\n",
       " 'u': '..-',\n",
       " 'v': '...-',\n",
       " 'w': '.--',\n",
       " 'x': '-..-',\n",
       " 'y': '-.--',\n",
       " 'z': '--..'}"
      ]
     },
     "execution_count": 51,
     "metadata": {},
     "output_type": "execute_result"
    }
   ],
   "source": [
    "morse_dict"
   ]
  },
  {
   "cell_type": "code",
   "execution_count": null,
   "metadata": {},
   "outputs": [],
   "source": []
  },
  {
   "cell_type": "code",
   "execution_count": 17,
   "metadata": {
    "ExecuteTime": {
     "end_time": "2021-06-06T04:08:44.749826Z",
     "start_time": "2021-06-06T04:08:44.746475Z"
    }
   },
   "outputs": [],
   "source": [
    "words_morse = []\n",
    "for word in words:\n",
    "    words_morse.append(''.join(list(map(morse_dict.get, list(word)))))"
   ]
  },
  {
   "cell_type": "code",
   "execution_count": 18,
   "metadata": {
    "ExecuteTime": {
     "end_time": "2021-06-06T04:09:04.642911Z",
     "start_time": "2021-06-06T04:09:04.639097Z"
    }
   },
   "outputs": [
    {
     "data": {
      "text/plain": [
       "['--...-.', '--...-.', '--...--.', '--...--.']"
      ]
     },
     "execution_count": 18,
     "metadata": {},
     "output_type": "execute_result"
    }
   ],
   "source": [
    "words_morse"
   ]
  },
  {
   "cell_type": "code",
   "execution_count": 35,
   "metadata": {
    "ExecuteTime": {
     "end_time": "2021-06-06T04:28:58.194597Z",
     "start_time": "2021-06-06T04:28:58.190639Z"
    }
   },
   "outputs": [
    {
     "data": {
      "text/plain": [
       "<map at 0x7fe010bada90>"
      ]
     },
     "execution_count": 35,
     "metadata": {},
     "output_type": "execute_result"
    }
   ],
   "source": [
    "map(morse_dict.get, list(word))"
   ]
  },
  {
   "cell_type": "code",
   "execution_count": 40,
   "metadata": {
    "ExecuteTime": {
     "end_time": "2021-06-06T04:30:10.570081Z",
     "start_time": "2021-06-06T04:30:10.567078Z"
    }
   },
   "outputs": [],
   "source": [
    "words_m = []\n",
    "for word in words:\n",
    "    for i in word:\n",
    "        words_m.append(''.join(list(morse_dict.get(i))))"
   ]
  },
  {
   "cell_type": "code",
   "execution_count": 41,
   "metadata": {
    "ExecuteTime": {
     "end_time": "2021-06-06T04:30:11.747358Z",
     "start_time": "2021-06-06T04:30:11.743408Z"
    }
   },
   "outputs": [
    {
     "data": {
      "text/plain": [
       "['--.', '..', '-.', '--..', '.', '-.', '--.', '..', '--.', '--', '...', '--.']"
      ]
     },
     "execution_count": 41,
     "metadata": {},
     "output_type": "execute_result"
    }
   ],
   "source": [
    "words_m"
   ]
  },
  {
   "cell_type": "code",
   "execution_count": null,
   "metadata": {},
   "outputs": [],
   "source": []
  },
  {
   "cell_type": "code",
   "execution_count": 19,
   "metadata": {
    "ExecuteTime": {
     "end_time": "2021-06-06T04:09:37.250502Z",
     "start_time": "2021-06-06T04:09:37.246053Z"
    }
   },
   "outputs": [
    {
     "data": {
      "text/plain": [
       "<function dict.get(key, default=None, /)>"
      ]
     },
     "execution_count": 19,
     "metadata": {},
     "output_type": "execute_result"
    }
   ],
   "source": [
    "morse_dict.get"
   ]
  },
  {
   "cell_type": "code",
   "execution_count": 45,
   "metadata": {
    "ExecuteTime": {
     "end_time": "2021-06-06T04:34:20.378149Z",
     "start_time": "2021-06-06T04:34:20.374696Z"
    }
   },
   "outputs": [],
   "source": [
    "def uniqueMorseRepresentations(words):\n",
    "    words_morse = []\n",
    "    for word in words:\n",
    "        words_morse.append(''.join(list(map(morse_dict.get, list(word)))))\n",
    "    \n",
    "    return len(set(words_morse))"
   ]
  },
  {
   "cell_type": "code",
   "execution_count": 47,
   "metadata": {
    "ExecuteTime": {
     "end_time": "2021-06-06T04:35:53.053385Z",
     "start_time": "2021-06-06T04:35:53.048983Z"
    }
   },
   "outputs": [
    {
     "data": {
      "text/plain": [
       "2"
      ]
     },
     "execution_count": 47,
     "metadata": {},
     "output_type": "execute_result"
    }
   ],
   "source": [
    "uniqueMorseRepresentations(words)"
   ]
  },
  {
   "cell_type": "code",
   "execution_count": 52,
   "metadata": {
    "ExecuteTime": {
     "end_time": "2021-06-06T04:39:53.384748Z",
     "start_time": "2021-06-06T04:39:53.379491Z"
    }
   },
   "outputs": [],
   "source": [
    "def uniqueMorseRepresentations(words):\n",
    "    morse_alphabet = [\".-\",\"-...\",\"-.-.\",\"-..\",\".\",\"..-.\",\"--.\",\"....\",\"..\",\".---\",\"-.-\",\".-..\",\"--\",\"-.\",\"---\",\".--.\",\"--.-\",\".-.\",\"...\",\"-\",\"..-\",\"...-\",\".--\",\"-..-\",\"-.--\",\"--..\"]\n",
    "    alphabet = ['a','b','c','d','e','f','g','h','i','j','k','l','m','n','o','p','q','r','s','t','u','v','w','x','y','z']\n",
    "    morse_dict = {a:m for a,m in zip(alphabet, morse_alphabet)} # create dictionary from alphabet and morse_alphabet\n",
    "    \n",
    "    words_morse = []\n",
    "    for word in words: # interate over each word\n",
    "        words_morse.append(''.join(list(map(morse_dict.get, list(word))))) # map each letter to its morse code\n",
    "    \n",
    "    return len(set(words_morse)) # to get the number of unique words in morse code"
   ]
  },
  {
   "cell_type": "code",
   "execution_count": 53,
   "metadata": {
    "ExecuteTime": {
     "end_time": "2021-06-06T04:39:54.337334Z",
     "start_time": "2021-06-06T04:39:54.333511Z"
    }
   },
   "outputs": [
    {
     "data": {
      "text/plain": [
       "2"
      ]
     },
     "execution_count": 53,
     "metadata": {},
     "output_type": "execute_result"
    }
   ],
   "source": [
    "uniqueMorseRepresentations(words)"
   ]
  },
  {
   "cell_type": "code",
   "execution_count": null,
   "metadata": {},
   "outputs": [],
   "source": []
  }
 ],
 "metadata": {
  "kernelspec": {
   "display_name": "Python 3",
   "language": "python",
   "name": "python3"
  },
  "language_info": {
   "codemirror_mode": {
    "name": "ipython",
    "version": 3
   },
   "file_extension": ".py",
   "mimetype": "text/x-python",
   "name": "python",
   "nbconvert_exporter": "python",
   "pygments_lexer": "ipython3",
   "version": "3.8.5"
  },
  "toc": {
   "base_numbering": 1,
   "nav_menu": {},
   "number_sections": true,
   "sideBar": true,
   "skip_h1_title": false,
   "title_cell": "Table of Contents",
   "title_sidebar": "Contents",
   "toc_cell": false,
   "toc_position": {},
   "toc_section_display": true,
   "toc_window_display": false
  },
  "varInspector": {
   "cols": {
    "lenName": 16,
    "lenType": 16,
    "lenVar": 40
   },
   "kernels_config": {
    "python": {
     "delete_cmd_postfix": "",
     "delete_cmd_prefix": "del ",
     "library": "var_list.py",
     "varRefreshCmd": "print(var_dic_list())"
    },
    "r": {
     "delete_cmd_postfix": ") ",
     "delete_cmd_prefix": "rm(",
     "library": "var_list.r",
     "varRefreshCmd": "cat(var_dic_list()) "
    }
   },
   "types_to_exclude": [
    "module",
    "function",
    "builtin_function_or_method",
    "instance",
    "_Feature"
   ],
   "window_display": false
  }
 },
 "nbformat": 4,
 "nbformat_minor": 4
}
